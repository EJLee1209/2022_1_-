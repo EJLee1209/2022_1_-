{
 "cells": [
  {
   "cell_type": "code",
   "execution_count": 1,
   "metadata": {},
   "outputs": [
    {
     "name": "stdout",
     "output_type": "stream",
     "text": [
      "49\n",
      "pythonis exciting.\n",
      "18 16 34\n"
     ]
    }
   ],
   "source": [
    "# 연산자 오버로딩 예시\n",
    "print(12+37)\n",
    "print(\"python\" + \"is exciting.\")\n",
    "\n",
    "import random\n",
    "\n",
    "a=random.randint(10,20) # 10~20 사이의 난수를 생성\n",
    "b=random.randint(10,20)\n",
    "\n",
    "c=a+b\n",
    "print(a,b,c)"
   ]
  },
  {
   "cell_type": "markdown",
   "metadata": {},
   "source": [
    "## 인공지능기자\n",
    "* 손흥민의 경기 결과를 기사로 작성하는 '단순한' 인공지능 프로그램"
   ]
  },
  {
   "cell_type": "code",
   "execution_count": 6,
   "metadata": {},
   "outputs": [
    {
     "name": "stdout",
     "output_type": "stream",
     "text": [
      "[프리미어 리그 속보(2022-04-16 15:06:45.501694)]\n",
      "손흥민 선수는 런던 스타디움에서 8월 6일 오후7시에 열린 경기에 출전하였습니다. 상대 팀은 맨체스터 유나이티드입니다. 손흥민 선수의 팀이 2골을 넣어1골을 넣은상대 팀을 이겼습니다손흥민 선수는 2골에 도움 1개로 승리를 크게 이끌었습니다. \n"
     ]
    }
   ],
   "source": [
    "from datetime import datetime\n",
    "import random\n",
    "\n",
    "place = input(\"경기가 열린 곳은?\")\n",
    "time = input(\"경기가 열린 시간은?\")\n",
    "opponent = input(\"상대 팀은?\")\n",
    "goals = input(\"손흥민은 몇 골을 넣었나요?\")\n",
    "aids = input(\"도움은 몇 개 인가요?\")\n",
    "score_me = input(\"손흥민 팀이 넣은 골 수는?\")\n",
    "score_you = input(\"상대 팀이 넣은 골 수는?\")\n",
    "\n",
    "news = \"[프리미어 리그 속보(\"+str(datetime.now())+\")]\\n\"\n",
    "news = news+\"손흥민 선수는 \" + place +\"에서 \"+time+\"에 열린 경기에 출전하였습니다. \"\n",
    "news=news+\"상대 팀은 \"+opponent+\"입니다. \"\n",
    "\n",
    "wording = [\"상대 팀을 이겼습니다\",\"상대를 대상으로 통쾌한 승리를 거머쥐었습니다.\",\"상대 팀을 꺽었습니다.\"]\n",
    "\n",
    "if score_me > score_you:\n",
    "    news=news+\"손흥민 선수의 팀이 \"+score_me+\"골을 넣어\"+score_you+\"골을 넣은\" + random.choice(wording)\n",
    "elif score_me < score_you:\n",
    "    news=news+\"손흥민 선수의 팀이 \"+score_me+\"골을 넣어\"+score_you+\"골을 넣은 상태 팀에게 졌습니다. \"\n",
    "else:\n",
    "    news=news+\"두 팀은\"+score_me+\"대\"+score_you+\"로 비겼습니다.\"\n",
    "\n",
    "if int(goals)>0 and int(aids)>0:\n",
    "    news=news+\"손흥민 선수는 \"+goals+\"골에 도움 \"+aids+\"개로 승리를 크게 이끌었습니다. \"\n",
    "elif int(goals)>0 and int(aids)==0:\n",
    "    news=news+\"손흥민 선수는 \"+goals+\"골로 승리를 이끌었습니다.\"\n",
    "elif int(goals)==0 and int(aids)>0:\n",
    "    news=news+\"손흥민 선수는 골은 없지만 도움 \"+aids+\"개로 승리하는데 공헌하였습니다. \"\n",
    "else:\n",
    "    news=news+\"아쉽게도 이번 경기에서 손흥민의 발끝은 침묵을 지켰습니다. \"\n",
    "\n",
    "print(news)\n",
    "\n",
    "# 음성으로 들려주는 곳\n",
    "from gtts import gTTS\n",
    "import playsound\n",
    "\n",
    "tts = gTTS(text=news, lang='ko') # 문자열 news를 위한 한국어 음성 합성\n",
    "tts.save(\"news_Son.mp3\")\n",
    "playsound.playsound(\"news_Son.mp3\",True)"
   ]
  },
  {
   "cell_type": "markdown",
   "metadata": {},
   "source": [
    "# 객체 지향 언어\n",
    "> 서로 관련이 있는 변수와 함수를 하나로 묶어서 다룰 수 있는 클래스 제공"
   ]
  },
  {
   "cell_type": "code",
   "execution_count": null,
   "metadata": {},
   "outputs": [],
   "source": [
    "from gtts import gTTS # gtts라는 모듈에서 gTTS 클래스를 불러옴\n",
    "import playsound\n",
    "\n",
    "tts = gTTS(text=news, lang='ko') # gTTS 클래스의 인스턴스 변수(객체) tts를 생성\n",
    "tts.save(\"news_Son.mp3\") # tts가 제공하는 save 함수 호출\n",
    "playsound.playsound(\"news_Son.mp3\",True)"
   ]
  }
 ],
 "metadata": {
  "interpreter": {
   "hash": "40d3a090f54c6569ab1632332b64b2c03c39dcf918b08424e98f38b5ae0af88f"
  },
  "kernelspec": {
   "display_name": "Python 3.9.7 ('base')",
   "language": "python",
   "name": "python3"
  },
  "language_info": {
   "codemirror_mode": {
    "name": "ipython",
    "version": 3
   },
   "file_extension": ".py",
   "mimetype": "text/x-python",
   "name": "python",
   "nbconvert_exporter": "python",
   "pygments_lexer": "ipython3",
   "version": "3.9.7"
  },
  "orig_nbformat": 4
 },
 "nbformat": 4,
 "nbformat_minor": 2
}
