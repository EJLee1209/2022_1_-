{
 "cells": [
  {
   "cell_type": "markdown",
   "metadata": {},
   "source": [
    "# iris 데이터셋 읽기\n",
    "> 레이블 : Setosa, Versicolor, Virginica\n",
    "\n",
    "> 특징 벡터 : sepal length, sepal width, petal length, petal width"
   ]
  },
  {
   "cell_type": "code",
   "execution_count": 1,
   "metadata": {},
   "outputs": [
    {
     "name": "stdout",
     "output_type": "stream",
     "text": [
      ".. _iris_dataset:\n",
      "\n",
      "Iris plants dataset\n",
      "--------------------\n",
      "\n",
      "**Data Set Characteristics:**\n",
      "\n",
      "    :Number of Instances: 150 (50 in each of three classes)\n",
      "    :Number of Attributes: 4 numeric, predictive attributes and the class\n",
      "    :Attribute Information:\n",
      "        - sepal length in cm\n",
      "        - sepal width in cm\n",
      "        - petal length in cm\n",
      "        - petal width in cm\n",
      "        - class:\n",
      "                - Iris-Setosa\n",
      "                - Iris-Versicolour\n",
      "                - Iris-Virginica\n",
      "                \n",
      "    :Summary Statistics:\n",
      "\n",
      "    ============== ==== ==== ======= ===== ====================\n",
      "                    Min  Max   Mean    SD   Class Correlation\n",
      "    ============== ==== ==== ======= ===== ====================\n",
      "    sepal length:   4.3  7.9   5.84   0.83    0.7826\n",
      "    sepal width:    2.0  4.4   3.05   0.43   -0.4194\n",
      "    petal length:   1.0  6.9   3.76   1.76    0.9490  (high!)\n",
      "    petal width:    0.1  2.5   1.20   0.76    0.9565  (high!)\n",
      "    ============== ==== ==== ======= ===== ====================\n",
      "\n",
      "    :Missing Attribute Values: None\n",
      "    :Class Distribution: 33.3% for each of 3 classes.\n",
      "    :Creator: R.A. Fisher\n",
      "    :Donor: Michael Marshall (MARSHALL%PLU@io.arc.nasa.gov)\n",
      "    :Date: July, 1988\n",
      "\n",
      "The famous Iris database, first used by Sir R.A. Fisher. The dataset is taken\n",
      "from Fisher's paper. Note that it's the same as in R, but not as in the UCI\n",
      "Machine Learning Repository, which has two wrong data points.\n",
      "\n",
      "This is perhaps the best known database to be found in the\n",
      "pattern recognition literature.  Fisher's paper is a classic in the field and\n",
      "is referenced frequently to this day.  (See Duda & Hart, for example.)  The\n",
      "data set contains 3 classes of 50 instances each, where each class refers to a\n",
      "type of iris plant.  One class is linearly separable from the other 2; the\n",
      "latter are NOT linearly separable from each other.\n",
      "\n",
      ".. topic:: References\n",
      "\n",
      "   - Fisher, R.A. \"The use of multiple measurements in taxonomic problems\"\n",
      "     Annual Eugenics, 7, Part II, 179-188 (1936); also in \"Contributions to\n",
      "     Mathematical Statistics\" (John Wiley, NY, 1950).\n",
      "   - Duda, R.O., & Hart, P.E. (1973) Pattern Classification and Scene Analysis.\n",
      "     (Q327.D83) John Wiley & Sons.  ISBN 0-471-22361-1.  See page 218.\n",
      "   - Dasarathy, B.V. (1980) \"Nosing Around the Neighborhood: A New System\n",
      "     Structure and Classification Rule for Recognition in Partially Exposed\n",
      "     Environments\".  IEEE Transactions on Pattern Analysis and Machine\n",
      "     Intelligence, Vol. PAMI-2, No. 1, 67-71.\n",
      "   - Gates, G.W. (1972) \"The Reduced Nearest Neighbor Rule\".  IEEE Transactions\n",
      "     on Information Theory, May 1972, 431-433.\n",
      "   - See also: 1988 MLC Proceedings, 54-64.  Cheeseman et al\"s AUTOCLASS II\n",
      "     conceptual clustering system finds 3 classes in the data.\n",
      "   - Many, many more ...\n"
     ]
    }
   ],
   "source": [
    "from sklearn import datasets\n",
    "\n",
    "d=datasets.load_iris()\n",
    "print(d.DESCR)"
   ]
  },
  {
   "cell_type": "markdown",
   "metadata": {},
   "source": [
    "# iris의 내용 살펴보기\n",
    "> d.data = 특징벡터\n",
    "\n",
    "> d.target = 레이블 / 참값"
   ]
  },
  {
   "cell_type": "code",
   "execution_count": 2,
   "metadata": {},
   "outputs": [
    {
     "name": "stdout",
     "output_type": "stream",
     "text": [
      "1 [5.1 3.5 1.4 0.2] 0\n",
      "2 [4.9 3.  1.4 0.2] 0\n",
      "3 [4.7 3.2 1.3 0.2] 0\n",
      "4 [4.6 3.1 1.5 0.2] 0\n",
      "5 [5.  3.6 1.4 0.2] 0\n",
      "6 [5.4 3.9 1.7 0.4] 0\n",
      "7 [4.6 3.4 1.4 0.3] 0\n",
      "8 [5.  3.4 1.5 0.2] 0\n",
      "9 [4.4 2.9 1.4 0.2] 0\n",
      "10 [4.9 3.1 1.5 0.1] 0\n",
      "11 [5.4 3.7 1.5 0.2] 0\n",
      "12 [4.8 3.4 1.6 0.2] 0\n",
      "13 [4.8 3.  1.4 0.1] 0\n",
      "14 [4.3 3.  1.1 0.1] 0\n",
      "15 [5.8 4.  1.2 0.2] 0\n",
      "16 [5.7 4.4 1.5 0.4] 0\n",
      "17 [5.4 3.9 1.3 0.4] 0\n",
      "18 [5.1 3.5 1.4 0.3] 0\n",
      "19 [5.7 3.8 1.7 0.3] 0\n",
      "20 [5.1 3.8 1.5 0.3] 0\n",
      "21 [5.4 3.4 1.7 0.2] 0\n",
      "22 [5.1 3.7 1.5 0.4] 0\n",
      "23 [4.6 3.6 1.  0.2] 0\n",
      "24 [5.1 3.3 1.7 0.5] 0\n",
      "25 [4.8 3.4 1.9 0.2] 0\n",
      "26 [5.  3.  1.6 0.2] 0\n",
      "27 [5.  3.4 1.6 0.4] 0\n",
      "28 [5.2 3.5 1.5 0.2] 0\n",
      "29 [5.2 3.4 1.4 0.2] 0\n",
      "30 [4.7 3.2 1.6 0.2] 0\n",
      "31 [4.8 3.1 1.6 0.2] 0\n",
      "32 [5.4 3.4 1.5 0.4] 0\n",
      "33 [5.2 4.1 1.5 0.1] 0\n",
      "34 [5.5 4.2 1.4 0.2] 0\n",
      "35 [4.9 3.1 1.5 0.2] 0\n",
      "36 [5.  3.2 1.2 0.2] 0\n",
      "37 [5.5 3.5 1.3 0.2] 0\n",
      "38 [4.9 3.6 1.4 0.1] 0\n",
      "39 [4.4 3.  1.3 0.2] 0\n",
      "40 [5.1 3.4 1.5 0.2] 0\n",
      "41 [5.  3.5 1.3 0.3] 0\n",
      "42 [4.5 2.3 1.3 0.3] 0\n",
      "43 [4.4 3.2 1.3 0.2] 0\n",
      "44 [5.  3.5 1.6 0.6] 0\n",
      "45 [5.1 3.8 1.9 0.4] 0\n",
      "46 [4.8 3.  1.4 0.3] 0\n",
      "47 [5.1 3.8 1.6 0.2] 0\n",
      "48 [4.6 3.2 1.4 0.2] 0\n",
      "49 [5.3 3.7 1.5 0.2] 0\n",
      "50 [5.  3.3 1.4 0.2] 0\n",
      "51 [7.  3.2 4.7 1.4] 1\n",
      "52 [6.4 3.2 4.5 1.5] 1\n",
      "53 [6.9 3.1 4.9 1.5] 1\n",
      "54 [5.5 2.3 4.  1.3] 1\n",
      "55 [6.5 2.8 4.6 1.5] 1\n",
      "56 [5.7 2.8 4.5 1.3] 1\n",
      "57 [6.3 3.3 4.7 1.6] 1\n",
      "58 [4.9 2.4 3.3 1. ] 1\n",
      "59 [6.6 2.9 4.6 1.3] 1\n",
      "60 [5.2 2.7 3.9 1.4] 1\n",
      "61 [5.  2.  3.5 1. ] 1\n",
      "62 [5.9 3.  4.2 1.5] 1\n",
      "63 [6.  2.2 4.  1. ] 1\n",
      "64 [6.1 2.9 4.7 1.4] 1\n",
      "65 [5.6 2.9 3.6 1.3] 1\n",
      "66 [6.7 3.1 4.4 1.4] 1\n",
      "67 [5.6 3.  4.5 1.5] 1\n",
      "68 [5.8 2.7 4.1 1. ] 1\n",
      "69 [6.2 2.2 4.5 1.5] 1\n",
      "70 [5.6 2.5 3.9 1.1] 1\n",
      "71 [5.9 3.2 4.8 1.8] 1\n",
      "72 [6.1 2.8 4.  1.3] 1\n",
      "73 [6.3 2.5 4.9 1.5] 1\n",
      "74 [6.1 2.8 4.7 1.2] 1\n",
      "75 [6.4 2.9 4.3 1.3] 1\n",
      "76 [6.6 3.  4.4 1.4] 1\n",
      "77 [6.8 2.8 4.8 1.4] 1\n",
      "78 [6.7 3.  5.  1.7] 1\n",
      "79 [6.  2.9 4.5 1.5] 1\n",
      "80 [5.7 2.6 3.5 1. ] 1\n",
      "81 [5.5 2.4 3.8 1.1] 1\n",
      "82 [5.5 2.4 3.7 1. ] 1\n",
      "83 [5.8 2.7 3.9 1.2] 1\n",
      "84 [6.  2.7 5.1 1.6] 1\n",
      "85 [5.4 3.  4.5 1.5] 1\n",
      "86 [6.  3.4 4.5 1.6] 1\n",
      "87 [6.7 3.1 4.7 1.5] 1\n",
      "88 [6.3 2.3 4.4 1.3] 1\n",
      "89 [5.6 3.  4.1 1.3] 1\n",
      "90 [5.5 2.5 4.  1.3] 1\n",
      "91 [5.5 2.6 4.4 1.2] 1\n",
      "92 [6.1 3.  4.6 1.4] 1\n",
      "93 [5.8 2.6 4.  1.2] 1\n",
      "94 [5.  2.3 3.3 1. ] 1\n",
      "95 [5.6 2.7 4.2 1.3] 1\n",
      "96 [5.7 3.  4.2 1.2] 1\n",
      "97 [5.7 2.9 4.2 1.3] 1\n",
      "98 [6.2 2.9 4.3 1.3] 1\n",
      "99 [5.1 2.5 3.  1.1] 1\n",
      "100 [5.7 2.8 4.1 1.3] 1\n",
      "101 [6.3 3.3 6.  2.5] 2\n",
      "102 [5.8 2.7 5.1 1.9] 2\n",
      "103 [7.1 3.  5.9 2.1] 2\n",
      "104 [6.3 2.9 5.6 1.8] 2\n",
      "105 [6.5 3.  5.8 2.2] 2\n",
      "106 [7.6 3.  6.6 2.1] 2\n",
      "107 [4.9 2.5 4.5 1.7] 2\n",
      "108 [7.3 2.9 6.3 1.8] 2\n",
      "109 [6.7 2.5 5.8 1.8] 2\n",
      "110 [7.2 3.6 6.1 2.5] 2\n",
      "111 [6.5 3.2 5.1 2. ] 2\n",
      "112 [6.4 2.7 5.3 1.9] 2\n",
      "113 [6.8 3.  5.5 2.1] 2\n",
      "114 [5.7 2.5 5.  2. ] 2\n",
      "115 [5.8 2.8 5.1 2.4] 2\n",
      "116 [6.4 3.2 5.3 2.3] 2\n",
      "117 [6.5 3.  5.5 1.8] 2\n",
      "118 [7.7 3.8 6.7 2.2] 2\n",
      "119 [7.7 2.6 6.9 2.3] 2\n",
      "120 [6.  2.2 5.  1.5] 2\n",
      "121 [6.9 3.2 5.7 2.3] 2\n",
      "122 [5.6 2.8 4.9 2. ] 2\n",
      "123 [7.7 2.8 6.7 2. ] 2\n",
      "124 [6.3 2.7 4.9 1.8] 2\n",
      "125 [6.7 3.3 5.7 2.1] 2\n",
      "126 [7.2 3.2 6.  1.8] 2\n",
      "127 [6.2 2.8 4.8 1.8] 2\n",
      "128 [6.1 3.  4.9 1.8] 2\n",
      "129 [6.4 2.8 5.6 2.1] 2\n",
      "130 [7.2 3.  5.8 1.6] 2\n",
      "131 [7.4 2.8 6.1 1.9] 2\n",
      "132 [7.9 3.8 6.4 2. ] 2\n",
      "133 [6.4 2.8 5.6 2.2] 2\n",
      "134 [6.3 2.8 5.1 1.5] 2\n",
      "135 [6.1 2.6 5.6 1.4] 2\n",
      "136 [7.7 3.  6.1 2.3] 2\n",
      "137 [6.3 3.4 5.6 2.4] 2\n",
      "138 [6.4 3.1 5.5 1.8] 2\n",
      "139 [6.  3.  4.8 1.8] 2\n",
      "140 [6.9 3.1 5.4 2.1] 2\n",
      "141 [6.7 3.1 5.6 2.4] 2\n",
      "142 [6.9 3.1 5.1 2.3] 2\n",
      "143 [5.8 2.7 5.1 1.9] 2\n",
      "144 [6.8 3.2 5.9 2.3] 2\n",
      "145 [6.7 3.3 5.7 2.5] 2\n",
      "146 [6.7 3.  5.2 2.3] 2\n",
      "147 [6.3 2.5 5.  1.9] 2\n",
      "148 [6.5 3.  5.2 2. ] 2\n",
      "149 [6.2 3.4 5.4 2.3] 2\n",
      "150 [5.9 3.  5.1 1.8] 2\n"
     ]
    }
   ],
   "source": [
    "for i in range(0,len(d.data)):\n",
    "    print(i+1, d.data[i], d.target[i])"
   ]
  },
  {
   "cell_type": "markdown",
   "metadata": {},
   "source": [
    "* 하나의 샘플은 d개의 특징을 갖는 특징벡터로 표현 된다.\n",
    "* iris의 데이터셋은 d = 4 이다."
   ]
  },
  {
   "cell_type": "markdown",
   "metadata": {},
   "source": [
    "# 기계 학습 적용: 모델링과 예측\n",
    "> SVM(Support Vector Machine)"
   ]
  },
  {
   "cell_type": "code",
   "execution_count": 5,
   "metadata": {},
   "outputs": [
    {
     "name": "stdout",
     "output_type": "stream",
     "text": [
      "새로운 2개 샘플의 부류는  [2 1]\n"
     ]
    }
   ],
   "source": [
    "from sklearn import svm\n",
    "\n",
    "s = svm.SVC(gamma=0.1,C=10) # svm의 분류모델 SVC객체 생성\n",
    "s.fit(d.data, d.target) # iris데이터로 학습(모델링)\n",
    "\n",
    "new_d = [[6.4,3.2,6.0,2.5],[7.1,3.1,4.7,1.35]] # 샘플 변형으로 새로운 데이터 생성\n",
    "\n",
    "res=s.predict(new_d) # 예측 수행\n",
    "print(\"새로운 2개 샘플의 부류는 \",res)\n"
   ]
  },
  {
   "cell_type": "markdown",
   "metadata": {},
   "source": [
    "# 인공지능 제품의 설계와 구현\n",
    "## 데이터의 편향\n",
    "> 특정한 샘플에 치우치게 데이터를 수집해서 정확률에 부정적인 요인이 되는 경우를 \"데이터 편향(data bias)\"이 있다고 한다\n",
    "## 특징벡터를 만드려면?\n",
    "> 구별이 잘되는 \"분별력\" 높은 특징을 사용한다"
   ]
  },
  {
   "cell_type": "markdown",
   "metadata": {},
   "source": [
    "## 규칙 기반 방법\n",
    "> 분류하는 규칙을 사람이 구현\n",
    "\n",
    "> 큰 데이터셋에서는 불가능, 데이터가 바뀌면 처음부터 새로 작업해야하는 비효율성\n",
    "\n",
    "## 기계 학습 방법\n",
    "> 특징 벡터를 추출하고 레이블을 붙이는 과정은 규칙 기반과 동일\n",
    "\n",
    "> 규칙 만드는 일은 기계학습 모델을 이용하여 자동으로 수행\n",
    "\n",
    "## 딥러닝 방법\n",
    "> 레이블을 붙이는 과정은 기계학습과 동일\n",
    "\n",
    "> 특징 벡터를 학습이 자동으로 알아냄. 이를 특징학습 또는 표현학습을 한다고 말함.\n",
    "\n",
    "* 장점\n",
    "> 특징 추출과 분류를 동시에 최적화하므로 뛰어난 성능 보장\n",
    "\n",
    "> 인공지능 제품 제작이 빠름"
   ]
  },
  {
   "cell_type": "markdown",
   "metadata": {},
   "source": [
    "# 특징 공간에서 데이터 분포\n",
    "## iris 데이터\n",
    "* 특징이 4개 이므로 4차원 특징 공간을 형성\n",
    "* 150개 샘플 각각은 4차원 특징 공간의 한 점"
   ]
  },
  {
   "cell_type": "code",
   "execution_count": 6,
   "metadata": {},
   "outputs": [],
   "source": [
    "# 특징 한개 제외 3차원 공간 구성\n",
    "import plotly.express as px\n",
    "\n",
    "df = px.data.iris()\n",
    "fig = px.scatter_3d(df, x='sepal_length', y='sepal_width', z='petal_width',color='species')\n",
    "fig.show(renderer=\"browser\")"
   ]
  },
  {
   "cell_type": "markdown",
   "metadata": {},
   "source": [
    "# 영상 데이터 사례:필기숫자\n",
    "## 두가지 필기 숫자 데이터셋\n",
    "* sklearn 데이터셋 8*8맵(64개 화소) -> 64차원, 1797개 샘플, [0,16] 명암값\n",
    "* MNIST 데이터셋 28*28맵(784개 화소) -> 784차원, 7만개 샘플, [0,255] 명암값"
   ]
  },
  {
   "cell_type": "code",
   "execution_count": 7,
   "metadata": {},
   "outputs": [
    {
     "data": {
      "image/png": "[encoded data removed]",
      "text/plain": [
       "<Figure size 360x360 with 1 Axes>"
      ]
     },
     "metadata": {
      "needs_background": "light"
     },
     "output_type": "display_data"
    },
    {
     "name": "stdout",
     "output_type": "stream",
     "text": [
      "[ 0.  0.  5. 13.  9.  1.  0.  0.  0.  0. 13. 15. 10. 15.  5.  0.  0.  3.\n",
      " 15.  2.  0. 11.  8.  0.  0.  4. 12.  0.  0.  8.  8.  0.  0.  5.  8.  0.\n",
      "  0.  9.  8.  0.  0.  4. 11.  0.  1. 12.  7.  0.  0.  2. 14.  5. 10. 12.\n",
      "  0.  0.  0.  0.  6. 13. 10.  0.  0.  0.]\n",
      "이 숫자는  0 입니다.\n"
     ]
    }
   ],
   "source": [
    "from sklearn import datasets\n",
    "import matplotlib.pyplot as plt\n",
    "\n",
    "digit = datasets.load_digits()\n",
    "\n",
    "plt.figure(figsize=(5,5))\n",
    "plt.imshow(digit.images[0],cmap=plt.cm.gray_r,interpolation='nearest')\n",
    "\n",
    "plt.show()\n",
    "print(digit.data[0])\n",
    "print(\"이 숫자는 \", digit.target[0],\"입니다.\")"
   ]
  },
  {
   "cell_type": "markdown",
   "metadata": {},
   "source": [
    "# lfw 얼굴 데이터셋\n",
    "* 5749명의 유명인의 얼굴 영상 13233장. 50*37맵. [0,255] 명암값"
   ]
  },
  {
   "cell_type": "code",
   "execution_count": 8,
   "metadata": {},
   "outputs": [
    {
     "data": {
      "image/png": "[encoded data removed]",
      "text/plain": [
       "<Figure size 1440x360 with 8 Axes>"
      ]
     },
     "metadata": {
      "needs_background": "light"
     },
     "output_type": "display_data"
    }
   ],
   "source": [
    "lfw=datasets.fetch_lfw_people(min_faces_per_person=70,resize=0.4)\n",
    "\n",
    "plt.figure(figsize=(20,5))\n",
    "\n",
    "for i in range(8):\n",
    "    plt.subplot(1,8,i+1)\n",
    "    plt.imshow(lfw.images[i],cmap=plt.cm.bone)\n",
    "    plt.title(lfw.target_names[lfw.target[i]])\n",
    "\n",
    "plt.show()"
   ]
  },
  {
   "cell_type": "markdown",
   "metadata": {},
   "source": [
    "# 텍스트 데이터 사례 : 20newsgroups"
   ]
  },
  {
   "cell_type": "code",
   "execution_count": 9,
   "metadata": {},
   "outputs": [
    {
     "name": "stdout",
     "output_type": "stream",
     "text": [
      "*******\n",
      " From: lerxst@wam.umd.edu (where's my thing)\n",
      "Subject: WHAT car is this!?\n",
      "Nntp-Posting-Host: rac3.wam.umd.edu\n",
      "Organization: University of Maryland, College Park\n",
      "Lines: 15\n",
      "\n",
      " I was wondering if anyone out there could enlighten me on this car I saw\n",
      "the other day. It was a 2-door sports car, looked to be from the late 60s/\n",
      "early 70s. It was called a Bricklin. The doors were really small. In addition,\n",
      "the front bumper was separate from the rest of the body. This is \n",
      "all I know. If anyone can tellme a model name, engine specs, years\n",
      "of production, where this car is made, history, or whatever info you\n",
      "have on this funky looking car, please e-mail.\n",
      "\n",
      "Thanks,\n",
      "- IL\n",
      "   ---- brought to you by your neighborhood Lerxst ----\n",
      "\n",
      "\n",
      "\n",
      "\n",
      " \n",
      "********\n",
      "이 문서의 부류는 < rec.autos > 입니다.\n"
     ]
    }
   ],
   "source": [
    "news=datasets.fetch_20newsgroups(subset='train')\n",
    "print(\"*******\\n\", news.data[0],\"\\n********\")\n",
    "print(\"이 문서의 부류는 <\",news.target_names[news.target[0]],\"> 입니다.\")"
   ]
  },
  {
   "cell_type": "markdown",
   "metadata": {},
   "source": [
    "# 특징 추출과 표현\n",
    "## 기계 학습의 전형적인 과정\n",
    "> 데이터 수집 --> 특징 추출 --> 모델링 --> 예측"
   ]
  },
  {
   "cell_type": "markdown",
   "metadata": {},
   "source": [
    "# 특징의 분별력\n",
    "## 기계학습은 높은 분별력을 지닌 특징을 사용해야 함\n",
    "## 다양한 형태의 특징 공간\n",
    "* 실제 세상은 비선형 데이터를 생성"
   ]
  },
  {
   "cell_type": "markdown",
   "metadata": {},
   "source": [
    "# 특징 값의 종류\n",
    "## 수치형 특징\n",
    "* iris의 네 개 특징은 실수\n",
    "* 거리 개념이 있음\n",
    "* 실수 또는 정수 또는 이진값\n",
    "## 범주형 특징\n",
    "* 학점, 수능 등급, 혈액형, 지역 등\n",
    "* 순서형:학점, 수능 등급 등\n",
    "  * 거리 개념이 있음. 순서대로 정수를 부여하면 수치형으로 취급 가능\n",
    "* 이름형\n",
    "  * 혈액형, 지역 등으로 거리 개념이 없음\n",
    "  * 보통 원핫 코드로 표현"
   ]
  },
  {
   "cell_type": "code",
   "execution_count": 11,
   "metadata": {},
   "outputs": [
    {
     "name": "stdout",
     "output_type": "stream",
     "text": [
      "예츨값은 [0 1 2]\n",
      "참값은 0 1 2\n",
      "화소 특징을 사용했을 때 정확률  100.0 %\n"
     ]
    }
   ],
   "source": [
    "from sklearn import datasets\n",
    "from sklearn import svm\n",
    "\n",
    "digit = datasets.load_digits()\n",
    "\n",
    "#svm의 분류기 모델 SVC객체 생성 후 학습\n",
    "s = svm.SVC(gamma=0.1,C=10)\n",
    "s.fit(digit.data,digit.target) # digit 데이터로 모델링\n",
    "\n",
    "new_d = [digit.data[0],digit.data[1],digit.data[2]]\n",
    "res = s.predict(new_d)\n",
    "print(\"예츨값은\",res)\n",
    "print(\"참값은\",digit.target[0],digit.target[1],digit.target[2])\n",
    "\n",
    "res = s.predict(digit.data)\n",
    "correct=[i for i in range(len(res)) if res[i] == digit.target[i]]\n",
    "accuracy = len(correct)/len(res)\n",
    "print(\"화소 특징을 사용했을 때 정확률 \", accuracy*100, \"%\")"
   ]
  },
  {
   "cell_type": "markdown",
   "metadata": {},
   "source": [
    "# 성능 측정\n",
    "## 객관적인 다양한 성능 측정의 중요성\n",
    "* 모델 선택할 때 중요\n",
    "* 현장 설치 여부 결정할 때 중요\n",
    "## 일반화 능력\n",
    "* 학습에 사용하지 않았던 새로운 데이터에 대한 성능\n",
    "* 가장 확실한 방법은 실제 현장에 설치하고 성능 측정 -> 비용측면에서 불가능\n",
    "* 주어진 데이터를 분할하여 사용하는 지혜 필요"
   ]
  },
  {
   "cell_type": "markdown",
   "metadata": {},
   "source": [
    "# 혼동 행렬\n",
    "* 부류 별로 옳은 분류와 틀린 분류의 개수를 기록한 행렬\n",
    "\n",
    "## 널리 쓰이는 성능 측정 기준\n",
    "### 정확률\n",
    "* 부류가 불균형일 때 성능을 제대로 반영하지 못함\n",
    "\n",
    ">정확률 = $\\frac{맞힌 샘플 수}{전체 샘플 수}$\n",
    "### 특이도와 민감도\n",
    ">특이도 = $\\frac{TN}{TN+FP}$\n",
    ">민감도= $\\frac{TP}{TP+FN}$\n",
    "### 정밀도와 재현율\n",
    ">정밀도= $\\frac{TP}{TP+FP}$\n",
    ">재현율= $\\frac{TP}{TP+FN}$\n",
    "\n",
    "\n",
    "\n"
   ]
  },
  {
   "cell_type": "markdown",
   "metadata": {},
   "source": [
    "# 훈련/검증/테스트 집합으로 쪼개기\n",
    "## 주어진 데이터를 적절한 비율로 훈련, 검증, 테스트 집합으로 나누어 씀.\n",
    "> 모델 선택 포함: 훈련/검증/테스트 집합으로 나눔\n",
    "\n",
    "> 모델 선택 제외: 훈련/테스트 집합으로 나눔"
   ]
  },
  {
   "cell_type": "code",
   "execution_count": 13,
   "metadata": {},
   "outputs": [
    {
     "name": "stdout",
     "output_type": "stream",
     "text": [
      "[[64.  0.  0.  0.  0.  0.  0.  0.  0.  0.]\n",
      " [ 0. 75.  0.  0.  0.  0.  0.  0.  4.  0.]\n",
      " [ 0.  0. 58.  0.  0.  0.  0.  0.  0.  0.]\n",
      " [ 0.  0.  0. 80.  0.  0.  0.  0.  0.  1.]\n",
      " [ 0.  0.  0.  0. 77.  0.  0.  0.  0.  0.]\n",
      " [ 0.  0.  0.  0.  0. 72.  0.  0.  0.  1.]\n",
      " [ 0.  0.  0.  0.  0.  1. 81.  0.  0.  0.]\n",
      " [ 0.  0.  1.  1.  0.  0.  0. 68.  0.  0.]\n",
      " [ 0.  0.  0.  0.  0.  0.  0.  0. 63.  0.]\n",
      " [ 0.  0.  0.  0.  0.  1.  0.  1.  0. 70.]]\n",
      "테스트 집합에 대한 정확률은  98.47009735744089 %입니다.\n"
     ]
    }
   ],
   "source": [
    "from sklearn import datasets\n",
    "from sklearn import svm\n",
    "from sklearn.model_selection import train_test_split\n",
    "import numpy as np\n",
    "\n",
    "digit = datasets.load_digits()\n",
    "x_train, x_test, y_train, y_test = train_test_split(digit.data,digit.target,train_size=0.6)\n",
    "\n",
    "s=svm.SVC(gamma=0.001)\n",
    "s.fit(x_train,y_train)\n",
    "\n",
    "res=s.predict(x_test)\n",
    "\n",
    "conf=np.zeros((10,10))\n",
    "for i in range(len(res)):\n",
    "    conf[res[i]][y_test[i]]+=1\n",
    "\n",
    "print(conf)\n",
    "\n",
    "no_correct = 0\n",
    "for i in range(10):\n",
    "    no_correct += conf[i][i]\n",
    "\n",
    "accuracy = no_correct/len(res)\n",
    "print(\"테스트 집합에 대한 정확률은 \", accuracy*100,\"%입니다.\")\n"
   ]
  },
  {
   "cell_type": "markdown",
   "metadata": {},
   "source": [
    "## 교차 검증\n",
    "### 위에서는 digit데이터를 6:4 비율로 훈련 집합과 테스트 집합으로 나누고 정확률을 측정했다. 그런데 랜덤하게 샘플링을 하므로 우연히 높거나 낮은 정확률을 얻게 분할 될 수 있다.\n",
    "### 이런 우연성을 줄이기 위해 여러번 분할해 각각의 성능을 측정하고 평균을 구하는 교차검증을 이용한다.\n",
    "\n",
    "> cross_val_score(분류기 모델객체, 특징 벡터, 레이블 정보, k (k-겹 교차검증))"
   ]
  },
  {
   "cell_type": "code",
   "execution_count": 14,
   "metadata": {},
   "outputs": [
    {
     "name": "stdout",
     "output_type": "stream",
     "text": [
      "[0.975      0.95       0.98328691 0.99164345 0.96100279]\n",
      "정확률(평균)=97.219, 표준편차=0.015\n"
     ]
    }
   ],
   "source": [
    "from sklearn import datasets\n",
    "from sklearn import svm\n",
    "from sklearn.model_selection import cross_val_score\n",
    "import numpy as np\n",
    "\n",
    "digit = datasets.load_digits()\n",
    "s=svm.SVC(gamma=0.001)\n",
    "accuracies=cross_val_score(s,digit.data,digit.target,cv=5)\n",
    "\n",
    "print(accuracies)\n",
    "print(\"정확률(평균)=%0.3f, 표준편차=%0.3f\"%(accuracies.mean()*100,accuracies.std()))"
   ]
  },
  {
   "cell_type": "markdown",
   "metadata": {},
   "source": [
    "# 인공지능은 어떻게 인식을 하나?\n",
    "## 특징 공간을 분할하는 결정 경계\n",
    "> 샘플은 특징 벡터로 표현되며, 특징 벡터는 특징 공간의 한 점에 해당한다. 인식 알고리즘은 원래 특징 공간을 인식 성능을 높이는데 더 유리한 새로운 특징 공간으로 여러 단계에 걸쳐 변환하며, 최종적으로 특징 공간을 분할하여 구분해낸다.\n",
    "\n",
    "> 인식 알고리즘은 특징 공간 변환과 특징 공간 분할로 분류문제를 푼다.\n",
    "\n",
    "> 딥러닝이 높은 성능을 보장하는 이유 중의 하나는 보다 좋은 특징 공간을 찾아내는 능력 때문이다. 딥러닝에서는 좋은 특징을 찾는 일을 '특징 학습을 한다' 또는 '표현 학습을 한다'고 말한다.\n",
    "\n",
    "### 결정 경계를 정하는 문제에서 고려해야 할 사항\n",
    "1. 대부분의 데이터가 선형 분리 불가능하기 때문에 비선형 분류기가 필요하다.\n",
    "    - SVM은 비선형 분류기\n",
    "2. 과잉 적합을 피해야 한다.\n",
    "    - 과잉 적합이 발생하면 훈련 집합에 대한 정확률은 높지만 테스트 집합에 대한 정확률은 떨어진다.(일반화 능력 저하)\n",
    "\n",
    "## SVM의 원리\n",
    "> 기계 학습의 목적은 훈련 집합에 없는 새로운 샘플이 들어왔을 때 정확히 분류하는 것 이다. 즉, 일반화 능력을 극대화하는 것\n",
    "\n",
    "> SVM에서 두 부류까지의 거리(여백)가 멀수록 더 좋은(일반화 능력이 뛰어난) 분류이다.\n",
    "\n",
    "> SVM은 선형분류의 한계를 벗어나기 위해 커널 트릭을 사용한다.\n",
    "\n",
    "> 커널 트릭은 커널 함수를 이용해 선형 공간을 비선형 공간으로 확장한다.\n",
    "\n",
    "## SVM의 하이퍼 매개변수 C\n",
    "> C를 크게하면 훈련 집합에 대한 정확률은 높지만, 일반화 능력이 떨어진다.\n",
    "\n",
    "> C를 작게하면 훈련 집합에 대한 정확률은 낮아지지만, 일반화 능력이 커진다."
   ]
  }
 ],
 "metadata": {
  "interpreter": {
   "hash": "40d3a090f54c6569ab1632332b64b2c03c39dcf918b08424e98f38b5ae0af88f"
  },
  "kernelspec": {
   "display_name": "Python 3.9.7 ('base')",
   "language": "python",
   "name": "python3"
  },
  "language_info": {
   "codemirror_mode": {
    "name": "ipython",
    "version": 3
   },
   "file_extension": ".py",
   "mimetype": "text/x-python",
   "name": "python",
   "nbconvert_exporter": "python",
   "pygments_lexer": "ipython3",
   "version": "3.9.7"
  },
  "orig_nbformat": 4
 },
 "nbformat": 4,
 "nbformat_minor": 2
}
