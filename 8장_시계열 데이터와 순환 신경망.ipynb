{
 "cells": [
  {
   "cell_type": "code",
   "execution_count": null,
   "metadata": {},
   "outputs": [
    {
     "ename": "",
     "evalue": "",
     "output_type": "error",
     "traceback": [
      "\u001b[1;31mFailed to start the Kernel. \n",
      "spawn /conda ENOENT. \n",
      "View Jupyter <a href='command:jupyter.viewOutput'>log</a> for further details."
     ]
    }
   ],
   "source": [
    "import numpy as np\n",
    "import pandas as pd\n",
    "import matplotlib.pyplot as plt\n",
    "\n",
    "f=open('bit-coin.csv')\n",
    "coindesk_data=pd.read_csv(f,header=0)\n",
    "seq=coindesk_data[['종가']].to_numpy()\n",
    "print('데이터 길이:',len(seq),'\\n앞쪽 5개 값:',seq[0:5])\n",
    "\n",
    "plt.plot(seq,color='red')\n",
    "plt.title('Bitcoins Prices(1 year from 2019-02-28)')\n",
    "plt.xlabel('Days');plt.ylabel('Price in USD')\n",
    "plt.show()"
   ]
  },
  {
   "cell_type": "code",
   "execution_count": null,
   "metadata": {},
   "outputs": [],
   "source": [
    "def seq2dataset(seq,window,horizon):\n",
    "    X=[], Y=[]\n",
    "    for i in range(len(seq)-(window+horizon)+1):\n",
    "        x=seq[i:(i+window)]\n",
    "        y=(seq[i+window+horizon-1])\n",
    "        X.append(x)\n",
    "        Y.append(y)\n",
    "    return np.array(X), np.array(Y)\n",
    "\n",
    "w=7\n",
    "h=1\n",
    "\n",
    "X,Y = seq2dataset(seq,w,h)\n",
    "print(X.shape,Y.shape)\n",
    "print(X[0],Y[0]); print(X[-1],Y[-1])\n"
   ]
  }
 ],
 "metadata": {
  "interpreter": {
   "hash": "d301370be49b570484a94918bd639cb06cef27e8a96a5878d8b8b4c57f819534"
  },
  "kernelspec": {
   "display_name": "Python 3.8.13 ('tensorflow-dev')",
   "language": "python",
   "name": "python3"
  },
  "language_info": {
   "name": "python",
   "version": "3.8.13"
  },
  "orig_nbformat": 4
 },
 "nbformat": 4,
 "nbformat_minor": 2
}
