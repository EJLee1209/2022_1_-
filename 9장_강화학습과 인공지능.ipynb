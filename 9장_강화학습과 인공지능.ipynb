{
 "cells": [
  {
   "cell_type": "code",
   "execution_count": 20,
   "metadata": {},
   "outputs": [
    {
     "name": "stdout",
     "output_type": "stream",
     "text": [
      "손잡이별 승리 확률: ['0.3762', '0.1823', '0.4950', '0.6462', '0.2217']\n",
      "손잡이별 수익($): ['-52', '-122', '-2', '57', '-113']\n",
      "순 수익($) -232\n"
     ]
    }
   ],
   "source": [
    "import numpy as np\n",
    "\n",
    "arms_profit=[0.4,0.12,0.52,0.6,0.25]\n",
    "n_arms=len(arms_profit)\n",
    "\n",
    "n_trial=1000\n",
    "\n",
    "def pull_bandit(handle):\n",
    "    q=np.random.random()\n",
    "    if q<arms_profit[handle]:\n",
    "        return 1\n",
    "    else:\n",
    "        return -1\n",
    "\n",
    "def random_exploration():\n",
    "    episode=[]\n",
    "    num=np.zeros(n_arms)\n",
    "    wins=np.zeros(n_arms)\n",
    "    for i in range(n_trial):\n",
    "        h=np.random.randint(0,n_arms)\n",
    "        reward=pull_bandit(h)\n",
    "        episode.append([h,reward])\n",
    "        num[h]+=1\n",
    "        wins[h]+=1 if reward==1 else 0\n",
    "    return episode, (num,wins)\n",
    "\n",
    "e,r=random_exploration()\n",
    "\n",
    "print(\"손잡이별 승리 확률:\", [\"%6.4f\"% (r[1][i]/r[0][i]) if r[0][i]>0 else 0.0 for i in range(n_arms)])\n",
    "print(\"손잡이별 수익($):\",[\"%d\"% (2*r[1][i]-r[0][i]) for i in range(n_arms)])\n",
    "print(\"순 수익($)\", sum(np.asarray(e)[:,1]))"
   ]
  },
  {
   "cell_type": "code",
   "execution_count": 48,
   "metadata": {},
   "outputs": [
    {
     "name": "stdout",
     "output_type": "stream",
     "text": [
      "손잡이별 승리 확률: ['0.4146', '0.1231', '0.5253', '0.5872', '0.1636']\n",
      "손잡이별 수익($): ['-49', '-49', '13', '49', '-74']\n",
      "순 수익($) -110\n"
     ]
    }
   ],
   "source": [
    "import numpy as np\n",
    "\n",
    "arms_profit=[0.4,0.12,0.52,0.6,0.25]\n",
    "n_arms=len(arms_profit)\n",
    "\n",
    "n_trial=1000\n",
    "\n",
    "def pull_bandit(handle):\n",
    "    q=np.random.random()\n",
    "    if q<arms_profit[handle]:\n",
    "        return 1\n",
    "    else:\n",
    "        return -1\n",
    "\n",
    "def random_exploration():\n",
    "    episode=[]\n",
    "    num=np.zeros(n_arms)\n",
    "    wins=np.zeros(n_arms)\n",
    "    for i in range(n_trial):\n",
    "        h=np.random.randint(0,n_arms)\n",
    "        reward=pull_bandit(h)\n",
    "        episode.append([h,reward])\n",
    "        num[h]+=1\n",
    "        wins[h]+=1 if reward==1 else 0\n",
    "    return episode, (num,wins)\n",
    "\n",
    "def epsilon_greedy(eps):\n",
    "    episode=[]\n",
    "    num=np.zeros(n_arms)\n",
    "    wins=np.zeros(n_arms)\n",
    "    for i in range(n_trial):\n",
    "        r=np.random.random()\n",
    "        if(r<eps or sum(wins)==0):\n",
    "            h=np.random.randint(0,n_arms)\n",
    "        else:\n",
    "            prob=np.asarray([wins[i]/num[i] if num[i]>0 else 0.0 for i in range(n_arms)])\n",
    "            prob=prob/sum(prob)\n",
    "            h=np.random.choice(range(n_arms),p=prob)\n",
    "        reward=pull_bandit(h)\n",
    "        episode.append([h,reward])\n",
    "        num[h]+=1\n",
    "        wins[h]+=1 if reward==1 else 0\n",
    "    return episode, (num, wins)\n",
    "\n",
    "\n",
    "e,r = epsilon_greedy(0.1)\n",
    "\n",
    "\n",
    "print(\"손잡이별 승리 확률:\", [\"%6.4f\"% (r[1][i]/r[0][i]) if r[0][i]>0 else 0.0 for i in range(n_arms)])\n",
    "print(\"손잡이별 수익($):\",[\"%d\"% (2*r[1][i]-r[0][i]) for i in range(n_arms)])\n",
    "print(\"순 수익($)\", sum(np.asarray(e)[:,1]))"
   ]
  },
  {
   "cell_type": "code",
   "execution_count": 59,
   "metadata": {},
   "outputs": [
    {
     "name": "stdout",
     "output_type": "stream",
     "text": [
      "Discrete(16)\n",
      "Discrete(4)\n",
      "[[0, 0.0, 0], [0, 0.0, 0], [0, 0.0, 0], [1, 0.0, 4], [0, 0.0, 4], [2, 0.0, 5]]\n"
     ]
    }
   ],
   "source": [
    "import gym\n",
    "\n",
    "# 환경 불러오기\n",
    "env=gym.make(\"FrozenLake-v1\",is_slippery=False)\n",
    "print(env.observation_space)\n",
    "print(env.action_space)\n",
    "\n",
    "n_trial=20\n",
    "\n",
    "# 에피소드 수집\n",
    "env.reset()\n",
    "episode=[]\n",
    "for i in range(n_trial):\n",
    "    action=env.action_space.sample() # 행동을 취함(랜덤 선택)\n",
    "    obs,reward,done,info=env.step(action) # 보상을 받고 상태가 바뀜\n",
    "    episode.append([action,reward,obs])\n",
    "    env.render()\n",
    "    if done:\n",
    "        break\n",
    "\n",
    "print(episode)\n",
    "env.close()\n"
   ]
  }
 ],
 "metadata": {
  "interpreter": {
   "hash": "d301370be49b570484a94918bd639cb06cef27e8a96a5878d8b8b4c57f819534"
  },
  "kernelspec": {
   "display_name": "Python 3.8.13 ('tensorflow-dev')",
   "language": "python",
   "name": "python3"
  },
  "language_info": {
   "codemirror_mode": {
    "name": "ipython",
    "version": 3
   },
   "file_extension": ".py",
   "mimetype": "text/x-python",
   "name": "python",
   "nbconvert_exporter": "python",
   "pygments_lexer": "ipython3",
   "version": "3.8.13"
  },
  "orig_nbformat": 4
 },
 "nbformat": 4,
 "nbformat_minor": 2
}
