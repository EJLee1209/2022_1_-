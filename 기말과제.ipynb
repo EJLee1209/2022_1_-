{
 "cells": [
  {
   "cell_type": "code",
   "execution_count": 1,
   "metadata": {},
   "outputs": [],
   "source": [
    "def get_data(filename_folder,filename_csv):\n",
    "    # train.csv 파일 읽어오기\n",
    "    df = pd.read_csv(filename_csv)\n",
    "    # 이미지 파일 이름 불러오기\n",
    "    img_names = df[\"data\"]\n",
    "\n",
    "    # 이미지를 저장할 ndarray 생성\n",
    "    images = np.zeros((img_names.shape[0],64,64,3))\n",
    "\n",
    "    # 이미지 저장\n",
    "    for index,name in enumerate(img_names):\n",
    "        images[index] = image.load_img(filename_folder+\"/\"+name)\n",
    "\n",
    "    # 레이블 저장\n",
    "    label = df[\"label\"]\n",
    "\n",
    "    return images, label"
   ]
  },
  {
   "cell_type": "code",
   "execution_count": 2,
   "metadata": {},
   "outputs": [],
   "source": [
    "def showGraph(hist):\n",
    "    # 정확률 곡선\n",
    "    plt.plot(hist.history['accuracy'])\n",
    "    plt.plot(hist.history['val_accuracy'])\n",
    "    plt.title('Model accuracy')\n",
    "    plt.xlabel('Epoch')\n",
    "    plt.ylabel('Accuracy')\n",
    "    plt.legend(['Train', 'Validation'], loc='best')\n",
    "    plt.grid()\n",
    "    plt.show()\n",
    "\n",
    "    # 손실 함수 곡선\n",
    "    plt.plot(hist.history['loss'])\n",
    "    plt.plot(hist.history['val_loss'])\n",
    "    plt.title('Model loss')\n",
    "    plt.xlabel('Epoch')\n",
    "    plt.ylabel('Loss')\n",
    "    plt.legend(['Train', 'Validation'], loc='best')\n",
    "    plt.grid()\n",
    "    plt.show()"
   ]
  },
  {
   "cell_type": "code",
   "execution_count": 3,
   "metadata": {},
   "outputs": [],
   "source": [
    "# 테스트 집합 예측 후 엑셀에 output(label) 저장하기\n",
    "def result_toExcel(cnn, x_test):\n",
    "    res = cnn.predict(x_test)\n",
    "    res_real = np.zeros((x_test.shape[0],1))\n",
    "\n",
    "    for i in range(x_test.shape[0]):\n",
    "        for j in range(5):\n",
    "            if(max(res[i]) == res[i][j]):\n",
    "                res_real[i] = j\n",
    "\n",
    "    res_real = res_real.astype(np.uint32)\n",
    "\n",
    "    df = pd.DataFrame(res_real,columns=['label'])\n",
    "\n",
    "    filename = input(\"저장할 파일명 : \")\n",
    "    filename += \".xlsx\"\n",
    "    df.to_excel(filename,sheet_name='label',index=False,header=False)"
   ]
  },
  {
   "cell_type": "code",
   "execution_count": 5,
   "metadata": {},
   "outputs": [],
   "source": [
    "def build_model():\n",
    "    model=Sequential()\n",
    "    model.add(Conv2D(32,(3,3),activation='relu',input_shape=(64,64,3)))\n",
    "    model.add(Conv2D(32,(3,3),activation='relu'))\n",
    "    model.add(MaxPool2D(pool_size=(2,2)))\n",
    "    model.add(Dropout(0.25))\n",
    "    model.add(Conv2D(64,(3,3),activation='relu'))\n",
    "    model.add(Conv2D(64,(3,3),activation='relu'))\n",
    "    model.add(MaxPool2D(pool_size=(2,2)))\n",
    "    model.add(Dropout(0.25))\n",
    "    model.add(Flatten())\n",
    "    model.add(Dense(512,activation='relu'))\n",
    "    model.add(Dropout(0.5))\n",
    "    model.add(Dense(5,activation='softmax'))\n",
    "    return model"
   ]
  },
  {
   "cell_type": "code",
   "execution_count": 6,
   "metadata": {},
   "outputs": [
    {
     "name": "stdout",
     "output_type": "stream",
     "text": [
      "Metal device set to: Apple M1\n",
      "\n",
      "systemMemory: 8.00 GB\n",
      "maxCacheSize: 2.67 GB\n",
      "\n"
     ]
    },
    {
     "name": "stderr",
     "output_type": "stream",
     "text": [
      "2022-06-06 00:26:58.762765: I tensorflow/core/common_runtime/pluggable_device/pluggable_device_factory.cc:305] Could not identify NUMA node of platform GPU ID 0, defaulting to 0. Your kernel may not have been built with NUMA support.\n",
      "2022-06-06 00:26:58.763497: I tensorflow/core/common_runtime/pluggable_device/pluggable_device_factory.cc:271] Created TensorFlow device (/job:localhost/replica:0/task:0/device:GPU:0 with 0 MB memory) -> physical PluggableDevice (device: 0, name: METAL, pci bus id: <undefined>)\n"
     ]
    },
    {
     "name": "stdout",
     "output_type": "stream",
     "text": [
      "Epoch 1/50\n"
     ]
    },
    {
     "name": "stderr",
     "output_type": "stream",
     "text": [
      "2022-06-06 00:26:59.020670: W tensorflow/core/platform/profile_utils/cpu_utils.cc:128] Failed to get CPU frequency: 0 Hz\n",
      "2022-06-06 00:26:59.317027: I tensorflow/core/grappler/optimizers/custom_graph_optimizer_registry.cc:113] Plugin optimizer for device_type GPU is enabled.\n",
      "2022-06-06 00:27:06.819704: I tensorflow/core/grappler/optimizers/custom_graph_optimizer_registry.cc:113] Plugin optimizer for device_type GPU is enabled.\n"
     ]
    },
    {
     "name": "stdout",
     "output_type": "stream",
     "text": [
      "76/76 - 9s - loss: 1.5004 - accuracy: 0.3346 - val_loss: 1.3087 - val_accuracy: 0.4509 - 9s/epoch - 113ms/step\n",
      "Epoch 2/50\n",
      "76/76 - 8s - loss: 1.2701 - accuracy: 0.4785 - val_loss: 1.1269 - val_accuracy: 0.5458 - 8s/epoch - 104ms/step\n",
      "Epoch 3/50\n",
      "76/76 - 8s - loss: 1.1601 - accuracy: 0.5430 - val_loss: 1.1655 - val_accuracy: 0.5413 - 8s/epoch - 103ms/step\n",
      "Epoch 4/50\n",
      "76/76 - 8s - loss: 1.0625 - accuracy: 0.5834 - val_loss: 1.0664 - val_accuracy: 0.5809 - 8s/epoch - 100ms/step\n",
      "Epoch 5/50\n",
      "76/76 - 8s - loss: 0.9901 - accuracy: 0.6131 - val_loss: 1.0141 - val_accuracy: 0.6345 - 8s/epoch - 100ms/step\n",
      "Epoch 6/50\n",
      "76/76 - 8s - loss: 0.9473 - accuracy: 0.6316 - val_loss: 0.8313 - val_accuracy: 0.6889 - 8s/epoch - 103ms/step\n",
      "Epoch 7/50\n",
      "76/76 - 8s - loss: 0.9107 - accuracy: 0.6436 - val_loss: 0.8549 - val_accuracy: 0.6819 - 8s/epoch - 104ms/step\n",
      "Epoch 8/50\n",
      "76/76 - 8s - loss: 0.8707 - accuracy: 0.6601 - val_loss: 0.8807 - val_accuracy: 0.6716 - 8s/epoch - 105ms/step\n",
      "Epoch 9/50\n",
      "76/76 - 8s - loss: 0.8460 - accuracy: 0.6730 - val_loss: 0.8984 - val_accuracy: 0.6749 - 8s/epoch - 100ms/step\n",
      "Epoch 10/50\n",
      "76/76 - 8s - loss: 0.8005 - accuracy: 0.6885 - val_loss: 0.8504 - val_accuracy: 0.6691 - 8s/epoch - 101ms/step\n",
      "Epoch 11/50\n",
      "76/76 - 8s - loss: 0.7786 - accuracy: 0.6995 - val_loss: 0.7781 - val_accuracy: 0.7141 - 8s/epoch - 100ms/step\n",
      "Epoch 12/50\n",
      "76/76 - 8s - loss: 0.7624 - accuracy: 0.7065 - val_loss: 0.7836 - val_accuracy: 0.7067 - 8s/epoch - 100ms/step\n",
      "Epoch 13/50\n",
      "76/76 - 8s - loss: 0.7148 - accuracy: 0.7283 - val_loss: 0.8013 - val_accuracy: 0.7096 - 8s/epoch - 100ms/step\n",
      "Epoch 14/50\n",
      "76/76 - 8s - loss: 0.7035 - accuracy: 0.7342 - val_loss: 0.7041 - val_accuracy: 0.7397 - 8s/epoch - 105ms/step\n",
      "Epoch 15/50\n",
      "76/76 - 8s - loss: 0.6707 - accuracy: 0.7448 - val_loss: 0.8230 - val_accuracy: 0.7075 - 8s/epoch - 103ms/step\n",
      "Epoch 16/50\n",
      "76/76 - 8s - loss: 0.6559 - accuracy: 0.7532 - val_loss: 0.7150 - val_accuracy: 0.7422 - 8s/epoch - 102ms/step\n",
      "Epoch 17/50\n",
      "76/76 - 8s - loss: 0.6362 - accuracy: 0.7573 - val_loss: 0.7362 - val_accuracy: 0.7521 - 8s/epoch - 100ms/step\n",
      "Epoch 18/50\n",
      "76/76 - 8s - loss: 0.6479 - accuracy: 0.7559 - val_loss: 0.6611 - val_accuracy: 0.7603 - 8s/epoch - 100ms/step\n",
      "Epoch 19/50\n",
      "76/76 - 8s - loss: 0.6349 - accuracy: 0.7591 - val_loss: 0.7724 - val_accuracy: 0.7310 - 8s/epoch - 102ms/step\n",
      "Epoch 20/50\n",
      "76/76 - 8s - loss: 0.6071 - accuracy: 0.7714 - val_loss: 0.6935 - val_accuracy: 0.7533 - 8s/epoch - 101ms/step\n",
      "Epoch 21/50\n",
      "76/76 - 8s - loss: 0.6164 - accuracy: 0.7625 - val_loss: 0.6654 - val_accuracy: 0.7616 - 8s/epoch - 101ms/step\n",
      "Epoch 22/50\n",
      "76/76 - 8s - loss: 0.5845 - accuracy: 0.7804 - val_loss: 0.7212 - val_accuracy: 0.7492 - 8s/epoch - 101ms/step\n",
      "Epoch 23/50\n",
      "76/76 - 8s - loss: 0.5722 - accuracy: 0.7838 - val_loss: 0.6821 - val_accuracy: 0.7583 - 8s/epoch - 101ms/step\n",
      "Epoch 24/50\n",
      "76/76 - 8s - loss: 0.5634 - accuracy: 0.7903 - val_loss: 0.6941 - val_accuracy: 0.7628 - 8s/epoch - 101ms/step\n",
      "Epoch 25/50\n",
      "76/76 - 8s - loss: 0.5472 - accuracy: 0.7962 - val_loss: 0.7219 - val_accuracy: 0.7566 - 8s/epoch - 104ms/step\n",
      "Epoch 26/50\n",
      "76/76 - 8s - loss: 0.5430 - accuracy: 0.7957 - val_loss: 0.8144 - val_accuracy: 0.7285 - 8s/epoch - 103ms/step\n",
      "Epoch 27/50\n",
      "76/76 - 8s - loss: 0.5409 - accuracy: 0.8002 - val_loss: 0.6889 - val_accuracy: 0.7562 - 8s/epoch - 102ms/step\n",
      "Epoch 28/50\n",
      "76/76 - 8s - loss: 0.5333 - accuracy: 0.8002 - val_loss: 0.6141 - val_accuracy: 0.7830 - 8s/epoch - 104ms/step\n",
      "Epoch 29/50\n",
      "76/76 - 8s - loss: 0.5192 - accuracy: 0.8044 - val_loss: 0.6535 - val_accuracy: 0.7702 - 8s/epoch - 104ms/step\n",
      "Epoch 30/50\n",
      "76/76 - 8s - loss: 0.5095 - accuracy: 0.8131 - val_loss: 0.6968 - val_accuracy: 0.7599 - 8s/epoch - 104ms/step\n",
      "Epoch 31/50\n",
      "76/76 - 8s - loss: 0.5179 - accuracy: 0.8060 - val_loss: 0.6267 - val_accuracy: 0.7859 - 8s/epoch - 104ms/step\n",
      "Epoch 32/50\n",
      "76/76 - 8s - loss: 0.4960 - accuracy: 0.8170 - val_loss: 0.7837 - val_accuracy: 0.7405 - 8s/epoch - 104ms/step\n",
      "Epoch 33/50\n",
      "76/76 - 8s - loss: 0.4903 - accuracy: 0.8177 - val_loss: 0.7687 - val_accuracy: 0.7488 - 8s/epoch - 106ms/step\n",
      "Epoch 34/50\n",
      "76/76 - 8s - loss: 0.5042 - accuracy: 0.8112 - val_loss: 0.6483 - val_accuracy: 0.7677 - 8s/epoch - 105ms/step\n",
      "Epoch 35/50\n",
      "76/76 - 8s - loss: 0.4729 - accuracy: 0.8253 - val_loss: 0.6028 - val_accuracy: 0.7859 - 8s/epoch - 109ms/step\n",
      "Epoch 36/50\n",
      "76/76 - 8s - loss: 0.4774 - accuracy: 0.8199 - val_loss: 0.6480 - val_accuracy: 0.7632 - 8s/epoch - 106ms/step\n",
      "Epoch 37/50\n",
      "76/76 - 8s - loss: 0.4742 - accuracy: 0.8264 - val_loss: 0.8000 - val_accuracy: 0.7356 - 8s/epoch - 107ms/step\n",
      "Epoch 38/50\n",
      "76/76 - 8s - loss: 0.4663 - accuracy: 0.8302 - val_loss: 0.6380 - val_accuracy: 0.7723 - 8s/epoch - 106ms/step\n",
      "Epoch 39/50\n",
      "76/76 - 8s - loss: 0.4616 - accuracy: 0.8272 - val_loss: 0.8142 - val_accuracy: 0.7401 - 8s/epoch - 105ms/step\n",
      "Epoch 40/50\n",
      "76/76 - 8s - loss: 0.4610 - accuracy: 0.8278 - val_loss: 0.6662 - val_accuracy: 0.7772 - 8s/epoch - 106ms/step\n",
      "Epoch 41/50\n",
      "76/76 - 8s - loss: 0.4509 - accuracy: 0.8286 - val_loss: 0.5791 - val_accuracy: 0.7933 - 8s/epoch - 108ms/step\n",
      "Epoch 42/50\n",
      "76/76 - 8s - loss: 0.4163 - accuracy: 0.8484 - val_loss: 0.7042 - val_accuracy: 0.7677 - 8s/epoch - 109ms/step\n",
      "Epoch 43/50\n",
      "76/76 - 8s - loss: 0.4356 - accuracy: 0.8371 - val_loss: 0.6550 - val_accuracy: 0.7834 - 8s/epoch - 109ms/step\n",
      "Epoch 44/50\n",
      "76/76 - 8s - loss: 0.4248 - accuracy: 0.8431 - val_loss: 0.6226 - val_accuracy: 0.7793 - 8s/epoch - 107ms/step\n",
      "Epoch 45/50\n",
      "76/76 - 8s - loss: 0.4135 - accuracy: 0.8442 - val_loss: 0.9212 - val_accuracy: 0.7236 - 8s/epoch - 108ms/step\n",
      "Epoch 46/50\n",
      "76/76 - 8s - loss: 0.4208 - accuracy: 0.8456 - val_loss: 0.6699 - val_accuracy: 0.7772 - 8s/epoch - 110ms/step\n",
      "Epoch 47/50\n",
      "76/76 - 8s - loss: 0.4220 - accuracy: 0.8412 - val_loss: 0.6759 - val_accuracy: 0.7764 - 8s/epoch - 109ms/step\n",
      "Epoch 48/50\n",
      "76/76 - 8s - loss: 0.4025 - accuracy: 0.8510 - val_loss: 0.6088 - val_accuracy: 0.7966 - 8s/epoch - 109ms/step\n",
      "Epoch 49/50\n",
      "76/76 - 8s - loss: 0.4011 - accuracy: 0.8498 - val_loss: 0.6130 - val_accuracy: 0.8007 - 8s/epoch - 109ms/step\n",
      "Epoch 50/50\n",
      "76/76 - 8s - loss: 0.3975 - accuracy: 0.8508 - val_loss: 0.6707 - val_accuracy: 0.7917 - 8s/epoch - 109ms/step\n",
      "정확률은 79.16666865348816\n"
     ]
    },
    {
     "data": {
      "image/png": "[encoded data removed]",
      "text/plain": [
       "<Figure size 432x288 with 1 Axes>"
      ]
     },
     "metadata": {
      "needs_background": "light"
     },
     "output_type": "display_data"
    },
    {
     "data": {
      "image/png": "[encoded data removed]",
      "text/plain": [
       "<Figure size 432x288 with 1 Axes>"
      ]
     },
     "metadata": {
      "needs_background": "light"
     },
     "output_type": "display_data"
    }
   ],
   "source": [
    "import tensorflow as tf\n",
    "import numpy as np\n",
    "import pandas as pd\n",
    "import matplotlib.pyplot as plt\n",
    "from tensorflow.keras.preprocessing import image\n",
    "from tensorflow.keras.models import Sequential\n",
    "from tensorflow.keras.layers import Conv2D,MaxPool2D,Flatten,Dense,Dropout\n",
    "from tensorflow.keras.optimizers import Adam\n",
    "from sklearn.model_selection import train_test_split\n",
    "from tensorflow.keras.preprocessing.image import ImageDataGenerator\n",
    "\n",
    "# 데이터 가져오기\n",
    "images, label = get_data(\"train\",\"train.csv\")\n",
    "\n",
    "# 훈련집합과 테스트집합으로 분할\n",
    "x_train,x_test,y_train,y_test=train_test_split(images,label,stratify=label,test_size=0.2)\n",
    "\n",
    "x_train=x_train.astype(np.float32)/255.0 # 정규화\n",
    "x_test=x_test.astype(np.float32)/255.0\n",
    "y_train=tf.keras.utils.to_categorical(y_train,5) # 원핫코드로 변환(레이블은 0,1,2,3,4 총 5개 부류)\n",
    "y_test=tf.keras.utils.to_categorical(y_test,5)\n",
    "\n",
    "cnn = build_model()\n",
    "\n",
    "cnn.compile(loss='categorical_crossentropy',optimizer=Adam(),metrics=['accuracy'])\n",
    "# 데이터 증대\n",
    "generator=ImageDataGenerator(zoom_range=0.1,width_shift_range=0.1,height_shift_range=0.1,horizontal_flip=True)\n",
    "hist=cnn.fit(generator.flow(x_train,y_train,batch_size=128),epochs=50,validation_data=(x_test,y_test),verbose=2)\n",
    "# hist=cnn.fit(x_train,y_train,batch_size=128,epochs=30,validation_data=(x_test,y_test),verbose=2)\n",
    "\n",
    "res=cnn.evaluate(x_test,y_test,verbose=0)\n",
    "print(\"정확률은\",res[1]*100)\n",
    "\n",
    "showGraph(hist)"
   ]
  },
  {
   "cell_type": "code",
   "execution_count": 7,
   "metadata": {},
   "outputs": [],
   "source": [
    "# 모델 저장하기\n",
    "cnn.save('final_Dropout_cnn.h5')"
   ]
  },
  {
   "cell_type": "code",
   "execution_count": 10,
   "metadata": {},
   "outputs": [
    {
     "name": "stdout",
     "output_type": "stream",
     "text": [
      "Model: \"sequential\"\n",
      "_________________________________________________________________\n",
      " Layer (type)                Output Shape              Param #   \n",
      "=================================================================\n",
      " conv2d (Conv2D)             (None, 62, 62, 32)        896       \n",
      "                                                                 \n",
      " conv2d_1 (Conv2D)           (None, 60, 60, 32)        9248      \n",
      "                                                                 \n",
      " max_pooling2d (MaxPooling2D  (None, 30, 30, 32)       0         \n",
      " )                                                               \n",
      "                                                                 \n",
      " dropout (Dropout)           (None, 30, 30, 32)        0         \n",
      "                                                                 \n",
      " conv2d_2 (Conv2D)           (None, 28, 28, 64)        18496     \n",
      "                                                                 \n",
      " conv2d_3 (Conv2D)           (None, 26, 26, 64)        36928     \n",
      "                                                                 \n",
      " max_pooling2d_1 (MaxPooling  (None, 13, 13, 64)       0         \n",
      " 2D)                                                             \n",
      "                                                                 \n",
      " dropout_1 (Dropout)         (None, 13, 13, 64)        0         \n",
      "                                                                 \n",
      " flatten (Flatten)           (None, 10816)             0         \n",
      "                                                                 \n",
      " dense (Dense)               (None, 512)               5538304   \n",
      "                                                                 \n",
      " dropout_2 (Dropout)         (None, 512)               0         \n",
      "                                                                 \n",
      " dense_1 (Dense)             (None, 5)                 2565      \n",
      "                                                                 \n",
      "=================================================================\n",
      "Total params: 5,606,437\n",
      "Trainable params: 5,606,437\n",
      "Non-trainable params: 0\n",
      "_________________________________________________________________\n"
     ]
    },
    {
     "name": "stderr",
     "output_type": "stream",
     "text": [
      "2022-06-06 00:36:16.985149: I tensorflow/core/grappler/optimizers/custom_graph_optimizer_registry.cc:113] Plugin optimizer for device_type GPU is enabled.\n"
     ]
    },
    {
     "name": "stdout",
     "output_type": "stream",
     "text": [
      "정확률은 92.20000505447388\n"
     ]
    }
   ],
   "source": [
    "import tensorflow as tf\n",
    "import numpy as np\n",
    "import pandas as pd\n",
    "import openpyxl\n",
    "from tensorflow.keras.preprocessing import image\n",
    "from tensorflow.keras.models import Sequential\n",
    "from tensorflow.keras.layers import Conv2D,MaxPool2D,Flatten,Dense,Dropout\n",
    "from tensorflow.keras.optimizers import Adam\n",
    "from sklearn.model_selection import train_test_split\n",
    "from tensorflow.keras.preprocessing.image import ImageDataGenerator\n",
    "\n",
    "cnn=tf.keras.models.load_model(\"final_Dropout_cnn.h5\")\n",
    "cnn.summary()\n",
    "\n",
    "images, label = get_data(\"train_original\",\"train_original.csv\")\n",
    "\n",
    "x_test = images.astype(np.float32)/255\n",
    "y_test = tf.keras.utils.to_categorical(label,5)\n",
    "\n",
    "res=cnn.evaluate(x_test,y_test,verbose=0)\n",
    "print(\"정확률은\",res[1]*100)\n",
    "\n"
   ]
  },
  {
   "cell_type": "code",
   "execution_count": 36,
   "metadata": {},
   "outputs": [
    {
     "name": "stdout",
     "output_type": "stream",
     "text": [
      "313/313 [==============================] - 4s 14ms/step\n"
     ]
    }
   ],
   "source": [
    "result_toExcel(cnn, x_test)"
   ]
  }
 ],
 "metadata": {
  "interpreter": {
   "hash": "d301370be49b570484a94918bd639cb06cef27e8a96a5878d8b8b4c57f819534"
  },
  "kernelspec": {
   "display_name": "Python 3.8.13 ('tensorflow-dev')",
   "language": "python",
   "name": "python3"
  },
  "language_info": {
   "codemirror_mode": {
    "name": "ipython",
    "version": 3
   },
   "file_extension": ".py",
   "mimetype": "text/x-python",
   "name": "python",
   "nbconvert_exporter": "python",
   "pygments_lexer": "ipython3",
   "version": "3.8.13"
  },
  "orig_nbformat": 4
 },
 "nbformat": 4,
 "nbformat_minor": 2
}
