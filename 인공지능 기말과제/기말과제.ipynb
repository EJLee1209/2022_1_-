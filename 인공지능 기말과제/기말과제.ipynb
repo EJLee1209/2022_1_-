{
 "cells": [
  {
   "cell_type": "code",
   "execution_count": 2,
   "metadata": {},
   "outputs": [],
   "source": [
    "from tensorflow.keras.preprocessing import image\n",
    "\n",
    "def get_data(filename_folder,filename_csv):\n",
    "    # train.csv 파일 읽어오기\n",
    "    df = pd.read_csv(filename_csv)\n",
    "    # 이미지 파일 이름 불러오기\n",
    "    img_names = df[\"data\"]\n",
    "\n",
    "    # 이미지를 저장할 ndarray 생성\n",
    "    images = np.zeros((img_names.shape[0],64,64,3))\n",
    "\n",
    "    # 이미지 저장\n",
    "    for index,name in enumerate(img_names):\n",
    "        images[index] = image.load_img(filename_folder+\"/\"+name)\n",
    "\n",
    "\n",
    "    # 레이블 저장\n",
    "    label = df[\"label\"]\n",
    "\n",
    "    return images, label"
   ]
  },
  {
   "cell_type": "code",
   "execution_count": 3,
   "metadata": {},
   "outputs": [],
   "source": [
    "from tensorflow.keras.preprocessing import image\n",
    "\n",
    "def get_data2(filename_folder,filename_csv):\n",
    "    # train.csv 파일 읽어오기\n",
    "    df = pd.read_csv(filename_csv)\n",
    "    # 이미지 파일 이름 불러오기\n",
    "    img_names = df[\"data\"]\n",
    "\n",
    "    # 이미지를 저장할 ndarray 생성\n",
    "    images = np.zeros((img_names.shape[0],64,64,3))\n",
    "\n",
    "    # 이미지 저장\n",
    "    for index,name in enumerate(img_names):\n",
    "        images[index] = image.load_img(filename_folder+\"/\"+name)\n",
    "\n",
    "\n",
    "    # # 레이블 저장\n",
    "    # label = df[\"label\"]\n",
    "\n",
    "    return images"
   ]
  },
  {
   "cell_type": "code",
   "execution_count": 4,
   "metadata": {},
   "outputs": [],
   "source": [
    "def showGraph(hist):\n",
    "    # 정확률 곡선\n",
    "    plt.plot(hist.history['accuracy'])\n",
    "    plt.plot(hist.history['val_accuracy'])\n",
    "    plt.title('Model accuracy')\n",
    "    plt.xlabel('Epoch')\n",
    "    plt.ylabel('Accuracy')\n",
    "    plt.legend(['Train', 'Validation'], loc='best')\n",
    "    plt.grid()\n",
    "    plt.show()\n",
    "\n",
    "    # 손실 함수 곡선\n",
    "    plt.plot(hist.history['loss'])\n",
    "    plt.plot(hist.history['val_loss'])\n",
    "    plt.title('Model loss')\n",
    "    plt.xlabel('Epoch')\n",
    "    plt.ylabel('Loss')\n",
    "    plt.legend(['Train', 'Validation'], loc='best')\n",
    "    plt.grid()\n",
    "    plt.show()"
   ]
  },
  {
   "cell_type": "code",
   "execution_count": 5,
   "metadata": {},
   "outputs": [],
   "source": [
    "# 테스트 집합 예측 후 엑셀에 output(label) 저장하기\n",
    "def result_toExcel(model, x_test):\n",
    "    res = model.predict(x_test)\n",
    "    res_real = np.zeros((x_test.shape[0],1))\n",
    "    res_img_name = np.zeros((x_test.shape[0],1))\n",
    "    for i in range(x_test.shape[0]):\n",
    "        for j in range(5):\n",
    "            if(max(res[i]) == res[i][j]):\n",
    "                res_real[i] = j\n",
    "\n",
    "    res_real = res_real.astype(np.uint32)\n",
    "\n",
    "    df = pd.DataFrame(res_real,columns=['label'])\n",
    "\n",
    "    filename = input(\"저장할 파일명 : \")\n",
    "    filename += \".xlsx\"\n",
    "    df.to_excel(filename,sheet_name='label',index=False)"
   ]
  },
  {
   "cell_type": "code",
   "execution_count": 6,
   "metadata": {},
   "outputs": [],
   "source": [
    "def result_toExcel2(model, x_test):\n",
    "    pred=model.predict(x_test)\n",
    "\n",
    "    pred=list(pred)\n",
    "    for i in range(len(pred)):\n",
    "        pred[i] = list(pred[i])\n",
    "    \n",
    "    result=[]\n",
    "    for p in pred:\n",
    "        result.append(p.index(max(p)))\n",
    "    \n",
    "    df=pd.read_csv('submission.csv')\n",
    "    df['label']=result\n",
    "    df.to_csv('submission.csv',index=False)"
   ]
  },
  {
   "cell_type": "code",
   "execution_count": 7,
   "metadata": {},
   "outputs": [],
   "source": [
    "def build_model():\n",
    "    model=Sequential()\n",
    "    model.add(Conv2D(32,(3,3),activation='relu',input_shape=(64,64,3)))\n",
    "    model.add(Conv2D(32,(3,3),activation='relu'))\n",
    "    model.add(MaxPool2D(pool_size=(2,2)))\n",
    "    \n",
    "    model.add(Conv2D(64,(3,3),activation='relu'))\n",
    "    model.add(Conv2D(64,(3,3),activation='relu'))\n",
    "    model.add(MaxPool2D(pool_size=(2,2)))\n",
    "    \n",
    "    model.add(Flatten())\n",
    "    model.add(Dense(512,activation='relu'))\n",
    "    \n",
    "    model.add(Dense(5,activation='softmax'))\n",
    "    return model"
   ]
  },
  {
   "cell_type": "markdown",
   "metadata": {},
   "source": [
    "# 모델 학습 코드"
   ]
  },
  {
   "cell_type": "code",
   "execution_count": 8,
   "metadata": {},
   "outputs": [
    {
     "name": "stdout",
     "output_type": "stream",
     "text": [
      "Metal device set to: Apple M1\n",
      "\n",
      "systemMemory: 8.00 GB\n",
      "maxCacheSize: 2.67 GB\n",
      "\n",
      "Epoch 1/20\n"
     ]
    },
    {
     "name": "stderr",
     "output_type": "stream",
     "text": [
      "2022-06-14 00:24:35.541029: I tensorflow/core/common_runtime/pluggable_device/pluggable_device_factory.cc:305] Could not identify NUMA node of platform GPU ID 0, defaulting to 0. Your kernel may not have been built with NUMA support.\n",
      "2022-06-14 00:24:35.541208: I tensorflow/core/common_runtime/pluggable_device/pluggable_device_factory.cc:271] Created TensorFlow device (/job:localhost/replica:0/task:0/device:GPU:0 with 0 MB memory) -> physical PluggableDevice (device: 0, name: METAL, pci bus id: <undefined>)\n",
      "2022-06-14 00:24:35.728577: W tensorflow/core/platform/profile_utils/cpu_utils.cc:128] Failed to get CPU frequency: 0 Hz\n",
      "2022-06-14 00:24:36.016453: I tensorflow/core/grappler/optimizers/custom_graph_optimizer_registry.cc:113] Plugin optimizer for device_type GPU is enabled.\n",
      "2022-06-14 00:24:45.605335: I tensorflow/core/grappler/optimizers/custom_graph_optimizer_registry.cc:113] Plugin optimizer for device_type GPU is enabled.\n"
     ]
    },
    {
     "name": "stdout",
     "output_type": "stream",
     "text": [
      "107/107 - 11s - loss: 1.3671 - accuracy: 0.4334 - val_loss: 1.1485 - val_accuracy: 0.5734 - 11s/epoch - 103ms/step\n",
      "Epoch 2/20\n",
      "107/107 - 10s - loss: 1.0536 - accuracy: 0.5992 - val_loss: 0.8656 - val_accuracy: 0.6754 - 10s/epoch - 92ms/step\n",
      "Epoch 3/20\n",
      "107/107 - 10s - loss: 0.9259 - accuracy: 0.6438 - val_loss: 0.8155 - val_accuracy: 0.6963 - 10s/epoch - 93ms/step\n",
      "Epoch 4/20\n",
      "107/107 - 10s - loss: 0.8331 - accuracy: 0.6836 - val_loss: 0.7284 - val_accuracy: 0.7213 - 10s/epoch - 92ms/step\n",
      "Epoch 5/20\n",
      "107/107 - 10s - loss: 0.7692 - accuracy: 0.7052 - val_loss: 0.6552 - val_accuracy: 0.7504 - 10s/epoch - 91ms/step\n",
      "Epoch 6/20\n",
      "107/107 - 10s - loss: 0.7232 - accuracy: 0.7270 - val_loss: 0.7065 - val_accuracy: 0.7313 - 10s/epoch - 91ms/step\n",
      "Epoch 7/20\n",
      "107/107 - 10s - loss: 0.6774 - accuracy: 0.7461 - val_loss: 0.6272 - val_accuracy: 0.7595 - 10s/epoch - 92ms/step\n",
      "Epoch 8/20\n",
      "107/107 - 10s - loss: 0.6174 - accuracy: 0.7706 - val_loss: 0.6374 - val_accuracy: 0.7633 - 10s/epoch - 91ms/step\n",
      "Epoch 9/20\n",
      "107/107 - 10s - loss: 0.5905 - accuracy: 0.7798 - val_loss: 0.6240 - val_accuracy: 0.7607 - 10s/epoch - 91ms/step\n",
      "Epoch 10/20\n",
      "107/107 - 10s - loss: 0.5548 - accuracy: 0.7968 - val_loss: 0.5621 - val_accuracy: 0.7912 - 10s/epoch - 91ms/step\n",
      "Epoch 11/20\n",
      "107/107 - 10s - loss: 0.5086 - accuracy: 0.8132 - val_loss: 0.5012 - val_accuracy: 0.8145 - 10s/epoch - 92ms/step\n",
      "Epoch 12/20\n",
      "107/107 - 10s - loss: 0.4938 - accuracy: 0.8189 - val_loss: 0.5542 - val_accuracy: 0.7921 - 10s/epoch - 91ms/step\n",
      "Epoch 13/20\n",
      "107/107 - 10s - loss: 0.4668 - accuracy: 0.8278 - val_loss: 0.5471 - val_accuracy: 0.8004 - 10s/epoch - 92ms/step\n",
      "Epoch 14/20\n",
      "107/107 - 10s - loss: 0.4347 - accuracy: 0.8429 - val_loss: 0.5344 - val_accuracy: 0.8136 - 10s/epoch - 92ms/step\n",
      "Epoch 15/20\n",
      "107/107 - 10s - loss: 0.4407 - accuracy: 0.8381 - val_loss: 0.4782 - val_accuracy: 0.8298 - 10s/epoch - 91ms/step\n",
      "Epoch 16/20\n",
      "107/107 - 10s - loss: 0.4151 - accuracy: 0.8443 - val_loss: 0.4562 - val_accuracy: 0.8415 - 10s/epoch - 91ms/step\n",
      "Epoch 17/20\n",
      "107/107 - 10s - loss: 0.3819 - accuracy: 0.8607 - val_loss: 0.4810 - val_accuracy: 0.8318 - 10s/epoch - 91ms/step\n",
      "Epoch 18/20\n",
      "107/107 - 10s - loss: 0.3710 - accuracy: 0.8602 - val_loss: 0.5105 - val_accuracy: 0.8271 - 10s/epoch - 91ms/step\n",
      "Epoch 19/20\n",
      "107/107 - 10s - loss: 0.3438 - accuracy: 0.8766 - val_loss: 0.4177 - val_accuracy: 0.8515 - 10s/epoch - 93ms/step\n",
      "Epoch 20/20\n",
      "107/107 - 10s - loss: 0.3286 - accuracy: 0.8797 - val_loss: 0.4621 - val_accuracy: 0.8442 - 10s/epoch - 95ms/step\n",
      "정확률은 84.41634774208069\n"
     ]
    },
    {
     "data": {
      "image/png": "[encoded data removed]",
      "text/plain": [
       "<Figure size 432x288 with 1 Axes>"
      ]
     },
     "metadata": {
      "needs_background": "light"
     },
     "output_type": "display_data"
    },
    {
     "data": {
      "image/png": "[encoded data removed]",
      "text/plain": [
       "<Figure size 432x288 with 1 Axes>"
      ]
     },
     "metadata": {
      "needs_background": "light"
     },
     "output_type": "display_data"
    }
   ],
   "source": [
    "import tensorflow as tf\n",
    "import numpy as np\n",
    "import pandas as pd\n",
    "import matplotlib.pyplot as plt\n",
    "from tensorflow.keras.preprocessing import image\n",
    "from tensorflow.keras.models import Sequential\n",
    "from tensorflow.keras.layers import Conv2D,MaxPool2D,Flatten,Dense,Dropout\n",
    "from tensorflow.keras.optimizers import Adam\n",
    "from sklearn.model_selection import train_test_split\n",
    "from tensorflow.keras.preprocessing.image import ImageDataGenerator\n",
    "\n",
    "# 데이터 가져오기\n",
    "images, label = get_data(\"train\",\"train.csv\")\n",
    "\n",
    "# 훈련집합과 테스트집합으로 분할\n",
    "x_train,x_test,y_train,y_test=train_test_split(images,label,stratify=label,test_size=0.2)\n",
    "\n",
    "x_train=x_train.astype(np.float32)/255.0 # 정규화\n",
    "x_test=x_test.astype(np.float32)/255.0\n",
    "y_train=tf.keras.utils.to_categorical(y_train,5) # 원핫코드로 변환(레이블은 0,1,2,3,4 총 5개 부류)\n",
    "y_test=tf.keras.utils.to_categorical(y_test,5)\n",
    "\n",
    "cnn = build_model()\n",
    "\n",
    "cnn.compile(loss='categorical_crossentropy',optimizer=Adam(),metrics=['accuracy'])\n",
    "# 데이터 증대\n",
    "generator=ImageDataGenerator(zoom_range=0.1,width_shift_range=0.1,height_shift_range=0.1,horizontal_flip=True)\n",
    "hist=cnn.fit(generator.flow(x_train,y_train,batch_size=128),epochs=20,validation_data=(x_test,y_test),verbose=2)\n",
    "# hist=cnn.fit(x_train,y_train,batch_size=128,epochs=30,validation_data=(x_test,y_test),verbose=2)\n",
    "\n",
    "res=cnn.evaluate(x_test,y_test,verbose=0)\n",
    "print(\"정확률은\",res[1]*100)\n",
    "\n",
    "showGraph(hist)"
   ]
  },
  {
   "cell_type": "code",
   "execution_count": null,
   "metadata": {},
   "outputs": [],
   "source": [
    "# 모델 저장하기\n",
    "cnn.save('final_final_cnn.h5')"
   ]
  },
  {
   "cell_type": "markdown",
   "metadata": {},
   "source": [
    "# 저장된 모델을 불러와서 정상적으로 정규화를 한 후 정확률을 측정했을 경우의 결과"
   ]
  },
  {
   "cell_type": "code",
   "execution_count": 7,
   "metadata": {},
   "outputs": [
    {
     "name": "stdout",
     "output_type": "stream",
     "text": [
      "Metal device set to: Apple M1\n",
      "\n",
      "systemMemory: 8.00 GB\n",
      "maxCacheSize: 2.67 GB\n",
      "\n"
     ]
    },
    {
     "name": "stderr",
     "output_type": "stream",
     "text": [
      "2022-06-14 00:20:35.785078: I tensorflow/core/common_runtime/pluggable_device/pluggable_device_factory.cc:305] Could not identify NUMA node of platform GPU ID 0, defaulting to 0. Your kernel may not have been built with NUMA support.\n",
      "2022-06-14 00:20:35.785678: I tensorflow/core/common_runtime/pluggable_device/pluggable_device_factory.cc:271] Created TensorFlow device (/job:localhost/replica:0/task:0/device:GPU:0 with 0 MB memory) -> physical PluggableDevice (device: 0, name: METAL, pci bus id: <undefined>)\n"
     ]
    },
    {
     "name": "stdout",
     "output_type": "stream",
     "text": [
      "Model: \"sequential_2\"\n",
      "_________________________________________________________________\n",
      " Layer (type)                Output Shape              Param #   \n",
      "=================================================================\n",
      " conv2d_8 (Conv2D)           (None, 62, 62, 32)        896       \n",
      "                                                                 \n",
      " conv2d_9 (Conv2D)           (None, 60, 60, 32)        9248      \n",
      "                                                                 \n",
      " max_pooling2d_4 (MaxPooling  (None, 30, 30, 32)       0         \n",
      " 2D)                                                             \n",
      "                                                                 \n",
      " conv2d_10 (Conv2D)          (None, 28, 28, 64)        18496     \n",
      "                                                                 \n",
      " conv2d_11 (Conv2D)          (None, 26, 26, 64)        36928     \n",
      "                                                                 \n",
      " max_pooling2d_5 (MaxPooling  (None, 13, 13, 64)       0         \n",
      " 2D)                                                             \n",
      "                                                                 \n",
      " flatten_2 (Flatten)         (None, 10816)             0         \n",
      "                                                                 \n",
      " dense_4 (Dense)             (None, 512)               5538304   \n",
      "                                                                 \n",
      " dense_5 (Dense)             (None, 5)                 2565      \n",
      "                                                                 \n",
      "=================================================================\n",
      "Total params: 5,606,437\n",
      "Trainable params: 5,606,437\n",
      "Non-trainable params: 0\n",
      "_________________________________________________________________\n"
     ]
    },
    {
     "name": "stderr",
     "output_type": "stream",
     "text": [
      "2022-06-14 00:20:37.207398: W tensorflow/core/platform/profile_utils/cpu_utils.cc:128] Failed to get CPU frequency: 0 Hz\n",
      "2022-06-14 00:20:37.298315: I tensorflow/core/grappler/optimizers/custom_graph_optimizer_registry.cc:113] Plugin optimizer for device_type GPU is enabled.\n"
     ]
    },
    {
     "name": "stdout",
     "output_type": "stream",
     "text": [
      "정확률은 88.06000351905823\n"
     ]
    }
   ],
   "source": [
    "import tensorflow as tf\n",
    "import numpy as np\n",
    "import pandas as pd\n",
    "import openpyxl\n",
    "from tensorflow.keras.preprocessing import image\n",
    "from tensorflow.keras.models import Sequential\n",
    "from tensorflow.keras.layers import Conv2D,MaxPool2D,Flatten,Dense,Dropout\n",
    "from tensorflow.keras.optimizers import Adam\n",
    "from sklearn.model_selection import train_test_split\n",
    "from tensorflow.keras.preprocessing.image import ImageDataGenerator\n",
    "\n",
    "cnn=tf.keras.models.load_model(\"final_final_cnn.h5\")\n",
    "\n",
    "images,label =get_data(\"test\",\"test.csv\")\n",
    "\n",
    "cnn.summary()\n",
    "\n",
    "x_test=images.astype(np.float32)/255.0\n",
    "y_test = tf.keras.utils.to_categorical(label,5)\n",
    "\n",
    "res=cnn.evaluate(x_test,y_test,verbose=0)\n",
    "print(\"정확률은\",res[1]*100)\n",
    "\n"
   ]
  },
  {
   "cell_type": "markdown",
   "metadata": {},
   "source": [
    "# 저장된 모델을 불러온 후 정규화를 하지 않고 정확률을 측정했을 때의 결과"
   ]
  },
  {
   "cell_type": "code",
   "execution_count": 8,
   "metadata": {},
   "outputs": [
    {
     "name": "stdout",
     "output_type": "stream",
     "text": [
      "Model: \"sequential_2\"\n",
      "_________________________________________________________________\n",
      " Layer (type)                Output Shape              Param #   \n",
      "=================================================================\n",
      " conv2d_8 (Conv2D)           (None, 62, 62, 32)        896       \n",
      "                                                                 \n",
      " conv2d_9 (Conv2D)           (None, 60, 60, 32)        9248      \n",
      "                                                                 \n",
      " max_pooling2d_4 (MaxPooling  (None, 30, 30, 32)       0         \n",
      " 2D)                                                             \n",
      "                                                                 \n",
      " conv2d_10 (Conv2D)          (None, 28, 28, 64)        18496     \n",
      "                                                                 \n",
      " conv2d_11 (Conv2D)          (None, 26, 26, 64)        36928     \n",
      "                                                                 \n",
      " max_pooling2d_5 (MaxPooling  (None, 13, 13, 64)       0         \n",
      " 2D)                                                             \n",
      "                                                                 \n",
      " flatten_2 (Flatten)         (None, 10816)             0         \n",
      "                                                                 \n",
      " dense_4 (Dense)             (None, 512)               5538304   \n",
      "                                                                 \n",
      " dense_5 (Dense)             (None, 5)                 2565      \n",
      "                                                                 \n",
      "=================================================================\n",
      "Total params: 5,606,437\n",
      "Trainable params: 5,606,437\n",
      "Non-trainable params: 0\n",
      "_________________________________________________________________\n"
     ]
    },
    {
     "name": "stderr",
     "output_type": "stream",
     "text": [
      "2022-06-14 00:20:58.306793: I tensorflow/core/grappler/optimizers/custom_graph_optimizer_registry.cc:113] Plugin optimizer for device_type GPU is enabled.\n"
     ]
    },
    {
     "name": "stdout",
     "output_type": "stream",
     "text": [
      "정확률은 54.96000051498413\n"
     ]
    }
   ],
   "source": [
    "import tensorflow as tf\n",
    "import numpy as np\n",
    "import pandas as pd\n",
    "import openpyxl\n",
    "from tensorflow.keras.preprocessing import image\n",
    "from tensorflow.keras.models import Sequential\n",
    "from tensorflow.keras.layers import Conv2D,MaxPool2D,Flatten,Dense,Dropout\n",
    "from tensorflow.keras.optimizers import Adam\n",
    "from sklearn.model_selection import train_test_split\n",
    "from tensorflow.keras.preprocessing.image import ImageDataGenerator\n",
    "\n",
    "cnn=tf.keras.models.load_model(\"final_final_cnn.h5\")\n",
    "\n",
    "images,label =get_data(\"test\",\"test.csv\")\n",
    "\n",
    "cnn.summary()\n",
    "\n",
    "y_test = tf.keras.utils.to_categorical(label,5)\n",
    "\n",
    "res=cnn.evaluate(images,y_test,verbose=0)\n",
    "print(\"정확률은\",res[1]*100)\n",
    "\n"
   ]
  },
  {
   "cell_type": "code",
   "execution_count": 16,
   "metadata": {},
   "outputs": [],
   "source": [
    "cnn=tf.keras.models.load_model(\"final_final_cnn.h5\")"
   ]
  },
  {
   "cell_type": "code",
   "execution_count": 17,
   "metadata": {},
   "outputs": [],
   "source": [
    "x_test =get_data2(\"test\",\"submission.csv\")"
   ]
  },
  {
   "cell_type": "code",
   "execution_count": 18,
   "metadata": {},
   "outputs": [],
   "source": [
    "x_test = images.astype(np.float32)/255 "
   ]
  },
  {
   "cell_type": "code",
   "execution_count": 19,
   "metadata": {},
   "outputs": [
    {
     "name": "stdout",
     "output_type": "stream",
     "text": [
      "  2/157 [..............................] - ETA: 10s"
     ]
    },
    {
     "name": "stderr",
     "output_type": "stream",
     "text": [
      "2022-06-13 11:59:59.250042: I tensorflow/core/grappler/optimizers/custom_graph_optimizer_registry.cc:113] Plugin optimizer for device_type GPU is enabled.\n"
     ]
    },
    {
     "name": "stdout",
     "output_type": "stream",
     "text": [
      "157/157 [==============================] - 2s 9ms/step\n"
     ]
    }
   ],
   "source": [
    "result_toExcel2(cnn, x_test)"
   ]
  }
 ],
 "metadata": {
  "interpreter": {
   "hash": "d301370be49b570484a94918bd639cb06cef27e8a96a5878d8b8b4c57f819534"
  },
  "kernelspec": {
   "display_name": "Python 3.8.13 ('tensorflow-dev')",
   "language": "python",
   "name": "python3"
  },
  "language_info": {
   "codemirror_mode": {
    "name": "ipython",
    "version": 3
   },
   "file_extension": ".py",
   "mimetype": "text/x-python",
   "name": "python",
   "nbconvert_exporter": "python",
   "pygments_lexer": "ipython3",
   "version": "3.8.13"
  },
  "orig_nbformat": 4
 },
 "nbformat": 4,
 "nbformat_minor": 2
}
